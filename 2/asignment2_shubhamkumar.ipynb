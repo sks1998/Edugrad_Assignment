{
 "cells": [
  {
   "cell_type": "markdown",
   "metadata": {},
   "source": [
    "# Assignment 2"
   ]
  },
  {
   "cell_type": "code",
   "execution_count": 9,
   "metadata": {},
   "outputs": [],
   "source": [
    "file = open(r\"C:\\Users\\SHUBHAM\\Downloads\\Compressed\\employee_list.csv\",\"r\")\n",
    "data = file.read()\n",
    "list_employees = data.split('\\n')\n",
    "permanent=[]\n",
    "others = []\n",
    "for each in list_employees:\n",
    "    elements = each.split(',')\n",
    "    x = elements[0]\n",
    "    if x[0:3]==\"emp\":\n",
    "        permanent.append(each)\n",
    "    else:\n",
    "        others.append(each)\n",
    "list_to_put=[]\n",
    "file.close()\n",
    "for each in permanent:\n",
    "    final_list=[]\n",
    "    elements = each.split(',')\n",
    "    x = elements[0]\n",
    "    y = x[3:5]\n",
    "    elements[0] = y\n",
    "    each = elements\n",
    "    name = elements[1]\n",
    "    f_name,l_name=name.split()\n",
    "    final_list.append(elements[0])\n",
    "    final_list.append(f_name)\n",
    "    final_list.append(l_name)\n",
    "    for i in range (2,len(elements)):\n",
    "        final_list.append(elements[i])\n",
    "    list_to_put.append(final_list)\n",
    "\n",
    "e = open(\"employee_list.csv\",\"a\")\n",
    "for each in list_to_put:\n",
    "    st=\"\"\n",
    "    for x in each:\n",
    "        st = st+x+','\n",
    "    st = st[0:len(st)-1]\n",
    "    e.write(st+'\\n')\n",
    "e.close()\n",
    "f=open(\"contractors_list.xlsx\",\"w+\")\n",
    "for each in others:\n",
    "    f.write(each+'\\n')\n",
    "f.close()"
   ]
  },
  {
   "cell_type": "code",
   "execution_count": null,
   "metadata": {},
   "outputs": [],
   "source": []
  },
  {
   "cell_type": "code",
   "execution_count": null,
   "metadata": {},
   "outputs": [],
   "source": []
  }
 ],
 "metadata": {
  "kernelspec": {
   "display_name": "Python 3",
   "language": "python",
   "name": "python3"
  },
  "language_info": {
   "codemirror_mode": {
    "name": "ipython",
    "version": 3
   },
   "file_extension": ".py",
   "mimetype": "text/x-python",
   "name": "python",
   "nbconvert_exporter": "python",
   "pygments_lexer": "ipython3",
   "version": "3.6.4"
  }
 },
 "nbformat": 4,
 "nbformat_minor": 2
}
