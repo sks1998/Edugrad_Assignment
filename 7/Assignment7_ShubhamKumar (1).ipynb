{
 "cells": [
  {
   "cell_type": "markdown",
   "metadata": {},
   "source": [
    "#  Assignment 7"
   ]
  },
  {
   "cell_type": "code",
   "execution_count": 1,
   "metadata": {},
   "outputs": [
    {
     "name": "stdout",
     "output_type": "stream",
     "text": [
      "\n",
      "Question 1 output\n",
      "\n",
      "\n",
      "Before Deletion\n",
      "\n",
      "   attempts labels     name  score\n",
      "0         3      a      Amy   11.5\n",
      "1         2      b   Dinesh    7.0\n",
      "2         1      c    Kelly   16.5\n",
      "3         3      d    Jenny    NaN\n",
      "4         2      e    Vinod    8.0\n",
      "5         2      f    Kevin   21.0\n",
      "6        13      g     Thor   14.5\n",
      "7         1      h     Lisa    NaN\n",
      "8         1      i     Kate    9.0\n",
      "9         7      j  Simpson   18.0\n",
      "\n",
      "After Deletion\n",
      "\n",
      "  labels     name  score\n",
      "0      a      Amy   11.5\n",
      "1      b   Dinesh    7.0\n",
      "2      c    Kelly   16.5\n",
      "3      d    Jenny    NaN\n",
      "4      e    Vinod    8.0\n",
      "5      f    Kevin   21.0\n",
      "6      g     Thor   14.5\n",
      "7      h     Lisa    NaN\n",
      "8      i     Kate    9.0\n",
      "9      j  Simpson   18.0\n"
     ]
    }
   ],
   "source": [
    "import pandas as pd\n",
    "import numpy as np\n",
    "print(\"\\nQuestion 1 output\\n\")\n",
    "data = {'labels': ['a', 'b', 'c', 'd', 'e', 'f', 'g', 'h', 'i', 'j'],\n",
    "        'name': ['Amy', 'Dinesh', 'Kelly', 'Jenny', 'Vinod', 'Kevin', 'Thor', 'Lisa', 'Kate',\n",
    "                 'Simpson'],\n",
    "        'score': [11.5, 7, 16.5, np.nan, 8, 21, 14.5, np.nan, 9, 18],\n",
    "        'attempts': [3, 2, 1, 3, 2, 2, 13, 1, 1, 7]}\n",
    "exam_data = pd.DataFrame(data)\n",
    "print(\"\\nBefore Deletion\\n\")\n",
    "print(exam_data)\n",
    "del exam_data['attempts']\n",
    "print(\"\\nAfter Deletion\\n\")\n",
    "print(exam_data)"
   ]
  },
  {
   "cell_type": "markdown",
   "metadata": {},
   "source": [
    "# Question 2"
   ]
  },
  {
   "cell_type": "code",
   "execution_count": 2,
   "metadata": {},
   "outputs": [
    {
     "name": "stdout",
     "output_type": "stream",
     "text": [
      "\n",
      "Older Index:\n",
      "           http_status  resonse_time\n",
      "index                              \n",
      "Firefox           301          1.00\n",
      "Chrome            200          0.02\n",
      "Safari            404          0.08\n",
      "IE10              404          0.07\n",
      "Konqueror         200          0.04\n",
      "\n",
      "New Index:\n",
      "               http_status  resonse_time\n",
      "Iceweasel             301          1.00\n",
      "Safari                200          0.02\n",
      "IE 10                 404          0.08\n",
      "Chrome                404          0.07\n",
      "Comodo Dragon         200          0.04\n"
     ]
    }
   ],
   "source": [
    "browser_data = {'index': ['Firefox', 'Chrome', 'Safari', 'IE10', 'Konqueror'],\n",
    "                'http_status': ['301', '200', '404', '404', '200'],\n",
    "                'resonse_time': [1.00, 0.02, 0.08, 0.07, 0.04]\n",
    "                }\n",
    "Browser = pd.DataFrame(browser_data).set_index('index')\n",
    "print(\"\\nOlder Index:\\n\", Browser)\n",
    "new_index = ['Iceweasel', 'Safari', 'IE 10', 'Chrome', 'Comodo Dragon']\n",
    "Browser.index = new_index\n",
    "print(\"\\nNew Index:\\n\", Browser)\n"
   ]
  },
  {
   "cell_type": "markdown",
   "metadata": {},
   "source": [
    "\n",
    "# Question 3"
   ]
  },
  {
   "cell_type": "code",
   "execution_count": 3,
   "metadata": {},
   "outputs": [
    {
     "name": "stdout",
     "output_type": "stream",
     "text": [
      "Data having Age>=68\n",
      "\n",
      "   Age  Name Year of joining\n",
      "1   76   Lal      26-03-1994\n",
      "2   68  Abhi      18-11-2002\n"
     ]
    }
   ],
   "source": [
    "emp_data = {'Name': ['Dulkar', 'Lal', 'Abhi', 'Judy'],\n",
    "            'Age': [34, 76, 68, 25],\n",
    "            'Year of joining': ['02-06-2000', '26-03-1994', '18-11-2002', '06-02-2010']}\n",
    "employees = pd.DataFrame(emp_data)\n",
    "print(\"Data having Age>=68\\n\")\n",
    "print (employees[employees['Age']>=68])"
   ]
  },
  {
   "cell_type": "markdown",
   "metadata": {},
   "source": [
    "# Question 4 (A)"
   ]
  },
  {
   "cell_type": "code",
   "execution_count": 4,
   "metadata": {},
   "outputs": [
    {
     "name": "stdout",
     "output_type": "stream",
     "text": [
      "    Armored  Battles Company  Deaths  Deserters      Origin  Readiness  \\\n",
      "0         0        4     1st      62          2      Oregon          2   \n",
      "1         0        7     1st      73          3     Wyoming          1   \n",
      "2         1        8     2nd      37          2   Louisiana          2   \n",
      "3         1        9     2nd      35          3     Georgia          3   \n",
      "4         1        5     1st     523          4     Arizona          1   \n",
      "5         0       42     1st      52         24  California          2   \n",
      "6         1        2     2nd      25         31       Texas          3   \n",
      "7         1        2     2nd     616          2     Florida          3   \n",
      "8         0        4     1st      43          3       Maine          2   \n",
      "9         1        7     1st     234          4        Iowa          1   \n",
      "10        0        8     2nd     523         24      Alaska          2   \n",
      "11        1        3     2nd      62         31  Washington          3   \n",
      "\n",
      "      Regiment  Size  Veterans  \n",
      "0       Scouts   973        48  \n",
      "1       Scouts  1005       435  \n",
      "2       Scouts  1099        63  \n",
      "3       Scouts  1523       345  \n",
      "4   Nighthawks  1045         1  \n",
      "5   Nighthawks   957         5  \n",
      "6   Nighthawks  1099        62  \n",
      "7   Nighthawks  1400        26  \n",
      "8     Dragoons  1592        73  \n",
      "9     Dragoons  1006        37  \n",
      "10    Dragoons   987       949  \n",
      "11    Dragoons   849        48  \n"
     ]
    }
   ],
   "source": [
    "sample_data = {\n",
    "    'Origin': ['Oregon', 'Wyoming', 'Louisiana', 'Georgia', 'Arizona', 'California', 'Texas', 'Florida',\n",
    "               'Maine', 'Iowa', 'Alaska', 'Washington'],\n",
    "    'Regiment': ['Scouts', 'Scouts', 'Scouts', 'Scouts', 'Nighthawks', 'Nighthawks', 'Nighthawks',\n",
    "                 'Nighthawks', 'Dragoons', 'Dragoons', 'Dragoons', 'Dragoons'],\n",
    "    'Company': ['1st', '1st', '2nd', '2nd', '1st', '1st', '2nd', '2nd', '1st', '1st', '2nd', '2nd'],\n",
    "    'Deaths': [62, 73, 37, 35, 523, 52, 25, 616, 43, 234, 523, 62],\n",
    "    'Battles': [4, 7, 8, 9, 5, 42, 2, 2, 4, 7, 8, 3],\n",
    "    'Size': [973, 1005, 1099, 1523, 1045, 957, 1099, 1400, 1592, 1006, 987, 849],\n",
    "    'Veterans': [48, 435, 63, 345, 1, 5, 62, 26, 73, 37, 949, 48],\n",
    "    'Readiness': [2, 1, 2, 3, 1, 2, 3, 3, 2, 1, 2, 3],\n",
    "    'Armored': [0, 0, 1, 1, 1, 0, 1, 1, 0, 1, 0, 1, ],\n",
    "    'Deserters': [2, 3, 2, 3, 4, 24, 31, 2, 3, 4, 24, 31],\n",
    "}\n",
    "Army = pd.DataFrame(sample_data)\n",
    "print (Army)"
   ]
  },
  {
   "cell_type": "markdown",
   "metadata": {},
   "source": [
    "# Question 4 (B)"
   ]
  },
  {
   "cell_type": "code",
   "execution_count": 5,
   "metadata": {},
   "outputs": [
    {
     "name": "stdout",
     "output_type": "stream",
     "text": [
      "\n",
      "Question 4 b output\n",
      "\n",
      "Setting index to Origin\n",
      "            Armored  Battles Company  Deaths  Deserters  Readiness  \\\n",
      "Origin                                                               \n",
      "Oregon            0        4     1st      62          2          2   \n",
      "Wyoming           0        7     1st      73          3          1   \n",
      "Louisiana         1        8     2nd      37          2          2   \n",
      "Georgia           1        9     2nd      35          3          3   \n",
      "Arizona           1        5     1st     523          4          1   \n",
      "California        0       42     1st      52         24          2   \n",
      "Texas             1        2     2nd      25         31          3   \n",
      "Florida           1        2     2nd     616          2          3   \n",
      "Maine             0        4     1st      43          3          2   \n",
      "Iowa              1        7     1st     234          4          1   \n",
      "Alaska            0        8     2nd     523         24          2   \n",
      "Washington        1        3     2nd      62         31          3   \n",
      "\n",
      "              Regiment  Size  Veterans  \n",
      "Origin                                  \n",
      "Oregon          Scouts   973        48  \n",
      "Wyoming         Scouts  1005       435  \n",
      "Louisiana       Scouts  1099        63  \n",
      "Georgia         Scouts  1523       345  \n",
      "Arizona     Nighthawks  1045         1  \n",
      "California  Nighthawks   957         5  \n",
      "Texas       Nighthawks  1099        62  \n",
      "Florida     Nighthawks  1400        26  \n",
      "Maine         Dragoons  1592        73  \n",
      "Iowa          Dragoons  1006        37  \n",
      "Alaska        Dragoons   987       949  \n",
      "Washington    Dragoons   849        48  \n"
     ]
    }
   ],
   "source": [
    "print(\"\\nQuestion 4 b output\\n\")\n",
    "Army = Army.set_index('Origin')\n",
    "print(\"Setting index to Origin\")\n",
    "print(Army)\n"
   ]
  },
  {
   "cell_type": "markdown",
   "metadata": {},
   "source": [
    "# Question 4 (C)"
   ]
  },
  {
   "cell_type": "code",
   "execution_count": 7,
   "metadata": {},
   "outputs": [
    {
     "name": "stdout",
     "output_type": "stream",
     "text": [
      "              Regiment  Deaths  Size\n",
      "Origin                              \n",
      "Georgia         Scouts      35  1523\n",
      "Florida     Nighthawks     616  1400\n",
      "California  Nighthawks      52   957\n"
     ]
    }
   ],
   "source": [
    "# Lookup using loc()\n",
    "print(Army.loc[['Georgia','Florida','California'],['Regiment','Deaths','Size']])\n"
   ]
  },
  {
   "cell_type": "markdown",
   "metadata": {},
   "source": [
    "# Question 4 (D)"
   ]
  },
  {
   "cell_type": "code",
   "execution_count": 8,
   "metadata": {},
   "outputs": [
    {
     "name": "stdout",
     "output_type": "stream",
     "text": [
      " The rows from 2 to 8 and the columns from 3 to 6\n",
      "\n",
      "            Deaths  Deserters  Readiness\n",
      "Origin                                  \n",
      "Louisiana       37          2          2\n",
      "Georgia         35          3          3\n",
      "Arizona        523          4          1\n",
      "California      52         24          2\n",
      "Texas           25         31          3\n",
      "Florida        616          2          3\n"
     ]
    }
   ],
   "source": [
    "# Looking up the labels and indices using iloc()\n",
    "print(\" The rows from 2 to 8 and the columns from 3 to 6\\n\")\n",
    "print(Army.iloc[2:8,3:6])"
   ]
  },
  {
   "cell_type": "markdown",
   "metadata": {},
   "source": [
    "# Question 4 (E)"
   ]
  },
  {
   "cell_type": "code",
   "execution_count": 9,
   "metadata": {},
   "outputs": [
    {
     "name": "stdout",
     "output_type": "stream",
     "text": [
      "Every row after the third row\n",
      "\n",
      "         Armored  Battles Company  Deaths  Deserters  Readiness    Regiment  \\\n",
      "Origin                                                                        \n",
      "Oregon         0        4     1st      62          2          2      Scouts   \n",
      "Georgia        1        9     2nd      35          3          3      Scouts   \n",
      "Texas          1        2     2nd      25         31          3  Nighthawks   \n",
      "Iowa           1        7     1st     234          4          1    Dragoons   \n",
      "\n",
      "         Size  Veterans  \n",
      "Origin                   \n",
      "Oregon    973        48  \n",
      "Georgia  1523       345  \n",
      "Texas    1099        62  \n",
      "Iowa     1006        37  \n"
     ]
    }
   ],
   "source": [
    "print(\"Every row after the third row\\n\")\n",
    "# Simlpy slicing the list using iloc\n",
    "print(Army.iloc[::3])"
   ]
  },
  {
   "cell_type": "markdown",
   "metadata": {},
   "source": [
    "# Question 4 (F)"
   ]
  },
  {
   "cell_type": "code",
   "execution_count": 10,
   "metadata": {},
   "outputs": [
    {
     "name": "stdout",
     "output_type": "stream",
     "text": [
      "The columns from 4 to 8\n",
      "\n",
      "            Deserters  Readiness    Regiment  Size\n",
      "Origin                                            \n",
      "Oregon              2          2      Scouts   973\n",
      "Wyoming             3          1      Scouts  1005\n",
      "Louisiana           2          2      Scouts  1099\n",
      "Georgia             3          3      Scouts  1523\n",
      "Arizona             4          1  Nighthawks  1045\n",
      "California         24          2  Nighthawks   957\n",
      "Texas              31          3  Nighthawks  1099\n",
      "Florida             2          3  Nighthawks  1400\n",
      "Maine               3          2    Dragoons  1592\n",
      "Iowa                4          1    Dragoons  1006\n",
      "Alaska             24          2    Dragoons   987\n",
      "Washington         31          3    Dragoons   849\n"
     ]
    }
   ],
   "source": [
    "# Slicing columns and selecting all rows using iloc\n",
    "print(\"The columns from 4 to 8\\n\")\n",
    "print(Army.iloc[:,4:8])"
   ]
  },
  {
   "cell_type": "markdown",
   "metadata": {},
   "source": [
    "# Question 4 (G)"
   ]
  },
  {
   "cell_type": "code",
   "execution_count": 11,
   "metadata": {},
   "outputs": [
    {
     "name": "stdout",
     "output_type": "stream",
     "text": [
      "Rows where  Battles are greater than 5\n",
      "\n",
      "            Armored  Battles Company  Deaths  Deserters  Readiness  \\\n",
      "Origin                                                               \n",
      "Wyoming           0        7     1st      73          3          1   \n",
      "Louisiana         1        8     2nd      37          2          2   \n",
      "Georgia           1        9     2nd      35          3          3   \n",
      "Arizona           1        5     1st     523          4          1   \n",
      "California        0       42     1st      52         24          2   \n",
      "Iowa              1        7     1st     234          4          1   \n",
      "Alaska            0        8     2nd     523         24          2   \n",
      "\n",
      "              Regiment  Size  Veterans  \n",
      "Origin                                  \n",
      "Wyoming         Scouts  1005       435  \n",
      "Louisiana       Scouts  1099        63  \n",
      "Georgia         Scouts  1523       345  \n",
      "Arizona     Nighthawks  1045         1  \n",
      "California  Nighthawks   957         5  \n",
      "Iowa          Dragoons  1006        37  \n",
      "Alaska        Dragoons   987       949  \n"
     ]
    }
   ],
   "source": [
    "print(\"Rows where  Battles are greater than 5\\n\")\n",
    "print(Army[Army['Battles']>=5])"
   ]
  },
  {
   "cell_type": "markdown",
   "metadata": {},
   "source": [
    "# Question 4 (H)"
   ]
  },
  {
   "cell_type": "code",
   "execution_count": 12,
   "metadata": {},
   "outputs": [
    {
     "name": "stdout",
     "output_type": "stream",
     "text": [
      "Rows where Deaths are greater than 500 or less than 50\n",
      "\n",
      "           Armored  Battles Company  Deaths  Deserters  Readiness    Regiment  \\\n",
      "Origin                                                                          \n",
      "Louisiana        1        8     2nd      37          2          2      Scouts   \n",
      "Georgia          1        9     2nd      35          3          3      Scouts   \n",
      "Arizona          1        5     1st     523          4          1  Nighthawks   \n",
      "Texas            1        2     2nd      25         31          3  Nighthawks   \n",
      "Florida          1        2     2nd     616          2          3  Nighthawks   \n",
      "Maine            0        4     1st      43          3          2    Dragoons   \n",
      "Alaska           0        8     2nd     523         24          2    Dragoons   \n",
      "\n",
      "           Size  Veterans  \n",
      "Origin                     \n",
      "Louisiana  1099        63  \n",
      "Georgia    1523       345  \n",
      "Arizona    1045         1  \n",
      "Texas      1099        62  \n",
      "Florida    1400        26  \n",
      "Maine      1592        73  \n",
      "Alaska      987       949  \n"
     ]
    }
   ],
   "source": [
    "print(\"Rows where Deaths are greater than 500 or less than 50\\n\")\n",
    "print(Army[(Army['Deaths'] > 500) | (Army['Deaths'] < 50)])"
   ]
  },
  {
   "cell_type": "markdown",
   "metadata": {},
   "source": [
    "# Question 4 (I) "
   ]
  },
  {
   "cell_type": "code",
   "execution_count": 13,
   "metadata": {},
   "outputs": [
    {
     "name": "stdout",
     "output_type": "stream",
     "text": [
      "All the regiments except 'Scouts\n",
      "\n",
      "            Armored  Battles Company  Deaths  Deserters  Readiness  \\\n",
      "Origin                                                               \n",
      "Arizona           1        5     1st     523          4          1   \n",
      "California        0       42     1st      52         24          2   \n",
      "Texas             1        2     2nd      25         31          3   \n",
      "Florida           1        2     2nd     616          2          3   \n",
      "Maine             0        4     1st      43          3          2   \n",
      "Iowa              1        7     1st     234          4          1   \n",
      "Alaska            0        8     2nd     523         24          2   \n",
      "Washington        1        3     2nd      62         31          3   \n",
      "\n",
      "              Regiment  Size  Veterans  \n",
      "Origin                                  \n",
      "Arizona     Nighthawks  1045         1  \n",
      "California  Nighthawks   957         5  \n",
      "Texas       Nighthawks  1099        62  \n",
      "Florida     Nighthawks  1400        26  \n",
      "Maine         Dragoons  1592        73  \n",
      "Iowa          Dragoons  1006        37  \n",
      "Alaska        Dragoons   987       949  \n",
      "Washington    Dragoons   849        48  \n"
     ]
    }
   ],
   "source": [
    "# Negation using ~ operator\n",
    "print(\"All the regiments except 'Scouts\\n\")\n",
    "print(Army[~(Army['Regiment'] == 'Scouts')])\n"
   ]
  },
  {
   "cell_type": "markdown",
   "metadata": {},
   "source": [
    "# Question 4 (J)"
   ]
  },
  {
   "cell_type": "code",
   "execution_count": 14,
   "metadata": {},
   "outputs": [
    {
     "name": "stdout",
     "output_type": "stream",
     "text": [
      "Little Bit Confusion in the indexing so printed both\n",
      "\n",
      "2nd\n",
      "523\n"
     ]
    }
   ],
   "source": [
    "# using ix() for interacting rows and column and selecting a cell\n",
    "print(\"Little Bit Confusion in the indexing so printed both\\n\")\n",
    "print(Army.loc['Alaska'][2])\n",
    "print(Army.loc['Alaska'][3])"
   ]
  },
  {
   "cell_type": "code",
   "execution_count": null,
   "metadata": {},
   "outputs": [],
   "source": []
  }
 ],
 "metadata": {
  "kernelspec": {
   "display_name": "Python 3",
   "language": "python",
   "name": "python3"
  },
  "language_info": {
   "codemirror_mode": {
    "name": "ipython",
    "version": 3
   },
   "file_extension": ".py",
   "mimetype": "text/x-python",
   "name": "python",
   "nbconvert_exporter": "python",
   "pygments_lexer": "ipython3",
   "version": "3.6.4"
  }
 },
 "nbformat": 4,
 "nbformat_minor": 2
}
