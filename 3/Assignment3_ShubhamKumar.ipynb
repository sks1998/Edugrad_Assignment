{
 "cells": [
  {
   "cell_type": "markdown",
   "metadata": {},
   "source": [
    "# Assignment 3 Question 1."
   ]
  },
  {
   "cell_type": "code",
   "execution_count": 9,
   "metadata": {},
   "outputs": [],
   "source": [
    "\"\"\"\n",
    "Q1. Program to insert element at the end of a link list.\n",
    "\"\"\"\n",
    "\n",
    "\n",
    "\n",
    "class ListNode:\n",
    "    \"\"\"\n",
    "    A node in a singly-linked list.\n",
    "    \"\"\"\n",
    "    def __init__(self, data=None, next=None):\n",
    "        self.data = data\n",
    "        self.next = next\n",
    "\n",
    "    def __repr__(self):\n",
    "        return repr(self.data)\n",
    "    \n",
    "class LinkedList:\n",
    "    def __init__(self):\n",
    "        \"\"\"\n",
    "        Create a new singly-linked list.   \n",
    "        \"\"\"\n",
    "        self.head = None\n",
    "\n",
    "    def __repr__(self):\n",
    "        \"\"\"\n",
    "        Return a string representation of the list.\n",
    "        \"\"\"\n",
    "        nodes = []\n",
    "        curr = self.head\n",
    "        while curr:\n",
    "            nodes.append(repr(curr))\n",
    "            curr = curr.next\n",
    "        return '[' + ', '.join(nodes) + ']'\n",
    " \n",
    "    \n",
    "    def addNode(self, data):\n",
    "        \"\"\"\n",
    "        Insert a new element at the end of the list.     \n",
    "        \"\"\"\n",
    "        if not self.head:\n",
    "            self.head = ListNode(data=data)\n",
    "            return\n",
    "        curr = self.head\n",
    "        while curr.next:\n",
    "            curr = curr.next\n",
    "        curr.next = ListNode(data=data)"
   ]
  },
  {
   "cell_type": "code",
   "execution_count": 5,
   "metadata": {},
   "outputs": [],
   "source": [
    "days = LinkedList()\n"
   ]
  },
  {
   "cell_type": "code",
   "execution_count": 6,
   "metadata": {},
   "outputs": [
    {
     "data": {
      "text/plain": [
       "[]"
      ]
     },
     "execution_count": 6,
     "metadata": {},
     "output_type": "execute_result"
    }
   ],
   "source": [
    "days"
   ]
  },
  {
   "cell_type": "code",
   "execution_count": 10,
   "metadata": {},
   "outputs": [],
   "source": [
    "days.addNode(\"sunday\")"
   ]
  },
  {
   "cell_type": "code",
   "execution_count": 11,
   "metadata": {},
   "outputs": [],
   "source": [
    "days.addNode(\"Monday\")"
   ]
  },
  {
   "cell_type": "code",
   "execution_count": 12,
   "metadata": {},
   "outputs": [],
   "source": [
    "days.addNode(\"Tuesday\")"
   ]
  },
  {
   "cell_type": "code",
   "execution_count": 14,
   "metadata": {},
   "outputs": [
    {
     "data": {
      "text/plain": [
       "['sunday', 'Monday', 'Tuesday']"
      ]
     },
     "execution_count": 14,
     "metadata": {},
     "output_type": "execute_result"
    }
   ],
   "source": [
    "days"
   ]
  },
  {
   "cell_type": "markdown",
   "metadata": {},
   "source": [
    "# Assignment 3 Question 2."
   ]
  },
  {
   "cell_type": "code",
   "execution_count": 5,
   "metadata": {},
   "outputs": [
    {
     "name": "stdout",
     "output_type": "stream",
     "text": [
      "Menu\n",
      "push <value>\n",
      "pop\n",
      "quit\n",
      "What would you like to do? pop\n",
      "Stack is empty.\n",
      "What would you like to do? push 4\n",
      "What would you like to do? push 6\n",
      "What would you like to do? push 2\n",
      "What would you like to do? push 3\n",
      "What would you like to do? push 9\n",
      "What would you like to do? push 8\n",
      "What would you like to do? pop\n",
      "Popped value:  8\n",
      "What would you like to do? pop\n",
      "Popped value:  9\n",
      "What would you like to do? pop\n",
      "Popped value:  3\n",
      "What would you like to do? pop\n",
      "Popped value:  2\n",
      "What would you like to do? quit\n"
     ]
    }
   ],
   "source": [
    "\"\"\"Q2. Program to implement stack using a Queue.\"\"\"\n",
    "\n",
    "class Stack:\n",
    "    def __init__(self):\n",
    "        self.q = Queue()\n",
    " \n",
    "    def is_empty(self):\n",
    "        return self.q.is_empty()\n",
    " \n",
    "    def push(self, data):\n",
    "        self.q.enqueue(data)\n",
    " \n",
    "    def pop(self):\n",
    "        for _ in range(self.q.get_size() - 1):\n",
    "            dequeued = self.q.dequeue()\n",
    "            self.q.enqueue(dequeued)\n",
    "        return self.q.dequeue()\n",
    " \n",
    " \n",
    "class Queue:\n",
    "    def __init__(self):\n",
    "        self.items = []\n",
    "        self.size = 0\n",
    " \n",
    "    def is_empty(self):\n",
    "        return self.items == []\n",
    " \n",
    "    def enqueue(self, data):\n",
    "        self.size += 1\n",
    "        self.items.append(data)\n",
    " \n",
    "    def dequeue(self):\n",
    "        self.size -= 1\n",
    "        return self.items.pop(0)\n",
    " \n",
    "    def get_size(self):\n",
    "        return self.size\n",
    " \n",
    " \n",
    "s = Stack()\n",
    " \n",
    "print('Menu')\n",
    "print('push <value>')\n",
    "print('pop')\n",
    "print('quit')\n",
    " \n",
    "while True:\n",
    "    do = input('What would you like to do? ').split()\n",
    " \n",
    "    operation = do[0].strip().lower()\n",
    "    if operation == 'push':\n",
    "        s.push(int(do[1]))\n",
    "    elif operation == 'pop':\n",
    "        if s.is_empty():\n",
    "            print('Stack is empty.')\n",
    "        else:\n",
    "            print('Popped value: ', s.pop())\n",
    "    elif operation == 'quit':\n",
    "        break"
   ]
  },
  {
   "cell_type": "markdown",
   "metadata": {},
   "source": [
    "# Assignment 3 Question 3."
   ]
  },
  {
   "cell_type": "code",
   "execution_count": 9,
   "metadata": {},
   "outputs": [],
   "source": [
    "\"\"\"  Q3. Program to implement a FIFO Queue. \"\"\"\n",
    "\n",
    "\n",
    "class Queue:\n",
    "    \n",
    "    def __init__(self):\n",
    "        \"\"\"\n",
    "        Create a new queue.   \n",
    "        \"\"\"\n",
    "        self.items = []\n",
    "\n",
    "    def isEmpty(self):\n",
    "        \"\"\"\n",
    "        Returns true if queue is empty .  \n",
    "        \"\"\"\n",
    "        return self.items == []\n",
    "\n",
    "    def enqueue(self, item):\n",
    "        \"\"\"\n",
    "        Add a new element to the end of queue.\n",
    "        \"\"\"\n",
    "        self.items.insert(0,item)\n",
    "\n",
    "    def dequeue(self):\n",
    "        \"\"\"\n",
    "        Remove a element from the beginning of queue.\n",
    "        \"\"\"\n",
    "        return self.items.pop()\n",
    "\n",
    "    def size(self):\n",
    "        \"\"\"\n",
    "        Returns the size of the queue.   \n",
    "        \"\"\"\n",
    "        return len(self.items)\n",
    "    \n",
    "    def peek(self):\n",
    "        \"\"\"\n",
    "       Have a look at first element of the queue.   \n",
    "        \"\"\"\n",
    "        if self.isEmpty():\n",
    "            raise Exception(\"Nothing to peek\")\n",
    "       \n",
    "        return self.items[len(self.items)-1]\n",
    "    "
   ]
  },
  {
   "cell_type": "code",
   "execution_count": 10,
   "metadata": {},
   "outputs": [],
   "source": [
    "n = Queue()"
   ]
  },
  {
   "cell_type": "code",
   "execution_count": 11,
   "metadata": {},
   "outputs": [],
   "source": [
    "n.enqueue(5)"
   ]
  },
  {
   "cell_type": "code",
   "execution_count": 12,
   "metadata": {},
   "outputs": [],
   "source": [
    "n.enqueue(6)\n"
   ]
  },
  {
   "cell_type": "code",
   "execution_count": 13,
   "metadata": {},
   "outputs": [],
   "source": [
    "n.enqueue(8)"
   ]
  },
  {
   "cell_type": "code",
   "execution_count": 14,
   "metadata": {},
   "outputs": [],
   "source": [
    "n.enqueue(2)"
   ]
  },
  {
   "cell_type": "code",
   "execution_count": 15,
   "metadata": {},
   "outputs": [
    {
     "data": {
      "text/plain": [
       "5"
      ]
     },
     "execution_count": 15,
     "metadata": {},
     "output_type": "execute_result"
    }
   ],
   "source": [
    "n.dequeue()"
   ]
  },
  {
   "cell_type": "code",
   "execution_count": 16,
   "metadata": {},
   "outputs": [
    {
     "data": {
      "text/plain": [
       "6"
      ]
     },
     "execution_count": 16,
     "metadata": {},
     "output_type": "execute_result"
    }
   ],
   "source": [
    "n.dequeue()"
   ]
  },
  {
   "cell_type": "code",
   "execution_count": 17,
   "metadata": {},
   "outputs": [
    {
     "data": {
      "text/plain": [
       "2"
      ]
     },
     "execution_count": 17,
     "metadata": {},
     "output_type": "execute_result"
    }
   ],
   "source": [
    "n.size()"
   ]
  },
  {
   "cell_type": "code",
   "execution_count": 18,
   "metadata": {},
   "outputs": [
    {
     "data": {
      "text/plain": [
       "8"
      ]
     },
     "execution_count": 18,
     "metadata": {},
     "output_type": "execute_result"
    }
   ],
   "source": [
    "n.peek()"
   ]
  },
  {
   "cell_type": "markdown",
   "metadata": {},
   "source": [
    "# Assignment 3 Question 4."
   ]
  },
  {
   "cell_type": "code",
   "execution_count": 19,
   "metadata": {},
   "outputs": [],
   "source": [
    "\"\"\" Q4. Program to implement Bubble sort.\"\"\"\n",
    "\n",
    "def bubblesort(list):\n",
    "    for i in range(len(list)-1,0,-1):\n",
    "        for idx in range(i):\n",
    "            if list[idx]>list[idx+1]:\n",
    "                temp = list[idx]\n",
    "                list[idx] = list[idx+1]\n",
    "                list[idx+1] = temp\n",
    "                \n",
    "    return print(list)"
   ]
  },
  {
   "cell_type": "code",
   "execution_count": 20,
   "metadata": {},
   "outputs": [],
   "source": [
    "num = [80,70,90,40,60,50]"
   ]
  },
  {
   "cell_type": "code",
   "execution_count": 21,
   "metadata": {},
   "outputs": [
    {
     "name": "stdout",
     "output_type": "stream",
     "text": [
      "[40, 50, 60, 70, 80, 90]\n"
     ]
    }
   ],
   "source": [
    "bubblesort(num)"
   ]
  },
  {
   "cell_type": "markdown",
   "metadata": {},
   "source": [
    "# Assignment 3 Question 5."
   ]
  },
  {
   "cell_type": "code",
   "execution_count": 23,
   "metadata": {},
   "outputs": [],
   "source": [
    "\"\"\" Q5. Program to implement seleection sort.\"\"\"\n",
    "\n",
    "def selectionSort(list):  \n",
    "    for i in range(len(list)):\n",
    "        min_idx = i\n",
    "        for j in range(i+1, len(list)):\n",
    "            if list[min_idx] > list[j]:\n",
    "                min_idx = j             \n",
    "        list[i], list[min_idx] = list[min_idx], list[i]\n",
    "        \n",
    "    print (\"Sorted array\")\n",
    "    for i in range(len(list)):\n",
    "        print(\"%d\" %list[i])"
   ]
  },
  {
   "cell_type": "code",
   "execution_count": 24,
   "metadata": {},
   "outputs": [],
   "source": [
    "list1 = [80,70,90,40,60,50]"
   ]
  },
  {
   "cell_type": "code",
   "execution_count": 25,
   "metadata": {},
   "outputs": [
    {
     "name": "stdout",
     "output_type": "stream",
     "text": [
      "Sorted array\n",
      "40\n",
      "50\n",
      "60\n",
      "70\n",
      "80\n",
      "90\n"
     ]
    }
   ],
   "source": [
    "selectionSort(list1)"
   ]
  },
  {
   "cell_type": "code",
   "execution_count": null,
   "metadata": {},
   "outputs": [],
   "source": []
  }
 ],
 "metadata": {
  "kernelspec": {
   "display_name": "Python 3",
   "language": "python",
   "name": "python3"
  },
  "language_info": {
   "codemirror_mode": {
    "name": "ipython",
    "version": 3
   },
   "file_extension": ".py",
   "mimetype": "text/x-python",
   "name": "python",
   "nbconvert_exporter": "python",
   "pygments_lexer": "ipython3",
   "version": "3.6.4"
  }
 },
 "nbformat": 4,
 "nbformat_minor": 2
}
